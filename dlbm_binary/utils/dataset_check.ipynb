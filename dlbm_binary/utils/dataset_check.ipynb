{
 "cells": [
  {
   "cell_type": "code",
   "execution_count": null,
   "metadata": {
    "collapsed": true
   },
   "outputs": [],
   "source": [
    "\"\"\"\n",
    "    Copyright 2023 by Michał Stolarz <michal.stolarz@h-brs.de>\n",
    "\n",
    "    This file is part of dlbm_binary.\n",
    "    It is used to plot statistics of the binary dataset.\n",
    "\n",
    "    dlbm_binary is free software: you can redistribute it and/or modify\n",
    "    it under the terms of the GNU Affero General Public License as published by\n",
    "    the Free Software Foundation, either version 3 of the License, or\n",
    "    (at your option) any later version.\n",
    "    dlbm_binary is distributed in the hope that it will be useful,\n",
    "    but WITHOUT ANY WARRANTY; without even the implied warranty of\n",
    "    MERCHANTABILITY or FITNESS FOR A PARTICULAR PURPOSE.  See the\n",
    "    GNU Affero General Public License for more details.\n",
    "    You should have received a copy of the GNU Affero General Public License\n",
    "    along with dlbm_binary. If not, see <http://www.gnu.org/licenses/>.\n",
    "\"\"\"\n",
    "\n",
    "import os\n",
    "import pandas as pd\n",
    "import seaborn as sns\n",
    "import matplotlib.pyplot as plt\n",
    "import numpy as np\n",
    "\n",
    "sns.set(rc={'figure.figsize':(11.7,1.1)})\n",
    "sns.set_style(\"whitegrid\")\n",
    "\n",
    "DATASET_PATH = \"/home/michal/thesis/interaction_dataset\"\n",
    "SPLITS = [\"train\", \"valid\", \"test\"]\n",
    "CLASSES = [\"diff\", \"feedback\"]\n",
    "USERS = [\"1MBU59SJ\", \"Z7U8NLC9\", \"U3L9LFS0\", \"M4OE3RP5\", \"J0YH72SI\",\n",
    "         \"03DEQR1O\", \"Q4GTE6L4\", \"PTEM0K27\", \"6XTLNK55\", \"5J7PWO3G\",\n",
    "         \"1PE38CJI\", \"25NQFBB2\", \"1CZ1CL1P\",\n",
    "         \"6ZN36CQR\", \"6RGY40ES\", \"3UDT4XN8\", \"3G4MPE2W\", \"76HKXYD3\",\n",
    "         \"A9XL9U1N\", \"COT085MQ\", \"F41CCF9W\", \"Q4ABT87L\", \"SYBO5F61\"]"
   ]
  },
  {
   "cell_type": "code",
   "execution_count": null,
   "outputs": [],
   "source": [
    "results_frame = pd.DataFrame()\n",
    "for split in SPLITS:\n",
    "    for user in USERS:\n",
    "        for cat in CLASSES:\n",
    "            cat_counts = {'Split': [split], 'User': np.where(np.array(USERS)==user)[0], 'Class': [cat], 'Count': [0]}\n",
    "            counter = 0\n",
    "            image_paths = os.listdir(os.path.join(DATASET_PATH, split, cat))\n",
    "            for image_path in image_paths:\n",
    "                user_id = image_path.split('.')[0].split('_')[1]\n",
    "                if user_id == \"03DEQR10\":\n",
    "                    user_id = \"03DEQR1O\"\n",
    "                    \n",
    "                if user_id == user:\n",
    "                    counter += 1\n",
    "                    \n",
    "            cat_counts['Count'] = [counter/8]\n",
    "            cat_counts = pd.DataFrame(cat_counts)\n",
    "            results_frame = pd.concat([results_frame, cat_counts], ignore_index=True)\n",
    "results_frame"
   ],
   "metadata": {
    "collapsed": false
   }
  },
  {
   "cell_type": "code",
   "execution_count": null,
   "outputs": [],
   "source": [
    "for split in SPLITS:\n",
    "    ax = sns.barplot(x=\"User\", y='Count', hue=\"Class\", data=results_frame.loc[results_frame['Split']==split])\n",
    "    if split != 'train':\n",
    "        ax.set_yticks([0, 100, 200])\n",
    "    else:\n",
    "        ax.set_yticks([0, 500, 1000])\n",
    "\n",
    "    plt.title(f\"{split.capitalize()} split\")\n",
    "    plt.legend(bbox_to_anchor=(1.01, 0.85), loc='upper left', borderaxespad=0)\n",
    "    plt.savefig(f\"plots/data/{split}.pdf\", format=\"pdf\", bbox_inches=\"tight\")\n",
    "    plt.show()"
   ],
   "metadata": {
    "collapsed": false
   }
  },
  {
   "cell_type": "code",
   "execution_count": null,
   "outputs": [],
   "source": [],
   "metadata": {
    "collapsed": false
   }
  }
 ],
 "metadata": {
  "kernelspec": {
   "display_name": "Python 3",
   "language": "python",
   "name": "python3"
  },
  "language_info": {
   "codemirror_mode": {
    "name": "ipython",
    "version": 2
   },
   "file_extension": ".py",
   "mimetype": "text/x-python",
   "name": "python",
   "nbconvert_exporter": "python",
   "pygments_lexer": "ipython2",
   "version": "2.7.6"
  }
 },
 "nbformat": 4,
 "nbformat_minor": 0
}
